{
 "cells": [
  {
   "cell_type": "code",
   "execution_count": 3,
   "metadata": {},
   "outputs": [
    {
     "name": "stdout",
     "output_type": "stream",
     "text": [
      "[ 0.  1.  1.  1.  2.]\n"
     ]
    }
   ],
   "source": [
    "import scipy.linalg as lng\n",
    "import numpy as np\n",
    "N = 5\n",
    "A = np.zeros((N,N))\n",
    "\n",
    "i,j = np.indices((N,N))\n",
    "A[i == j] = 1\n",
    "A[i == j+1] = 1\n",
    "A[i == j+2] = 1\n",
    "b = np.arange(N)\n",
    "\n",
    "\n",
    "B = np.linalg.solve(A, b)\n",
    "print(B);"
   ]
  },
  {
   "cell_type": "code",
   "execution_count": null,
   "metadata": {},
   "outputs": [],
   "source": []
  }
 ],
 "metadata": {
  "kernelspec": {
   "display_name": "Python 3",
   "language": "python",
   "name": "python3"
  },
  "language_info": {
   "codemirror_mode": {
    "name": "ipython",
    "version": 3
   },
   "file_extension": ".py",
   "mimetype": "text/x-python",
   "name": "python",
   "nbconvert_exporter": "python",
   "pygments_lexer": "ipython3",
   "version": "3.6.5"
  }
 },
 "nbformat": 4,
 "nbformat_minor": 2
}
