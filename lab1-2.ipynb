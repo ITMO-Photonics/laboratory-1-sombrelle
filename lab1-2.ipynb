{
 "cells": [
  {
   "cell_type": "code",
   "execution_count": 4,
   "metadata": {},
   "outputs": [
    {
     "name": "stdout",
     "output_type": "stream",
     "text": [
      "brentq_root = 1.570796326795077\n",
      "18.9 µs ± 200 ns per loop (mean ± std. dev. of 7 runs, 100000 loops each)\n",
      "bisect_root = 1.5707963267943796\n",
      "60.1 µs ± 1.13 µs per loop (mean ± std. dev. of 7 runs, 10000 loops each)\n",
      "newton1_root = 1.57079632679\n",
      "46.6 µs ± 697 ns per loop (mean ± std. dev. of 7 runs, 10000 loops each)\n",
      "newton2_root = 1.57079632679\n",
      "26.4 µs ± 709 ns per loop (mean ± std. dev. of 7 runs, 10000 loops each)\n"
     ]
    }
   ],
   "source": [
    "import numpy as np\n",
    "import scipy.optimize as opt\n",
    "\n",
    "def func(x):\n",
    "    return (np.cos(x)/(1+x**2))\n",
    "\n",
    "brentq_root=opt.brentq(func,0.1,2.4)\n",
    "bisect_root=opt.bisect(func,0.1,2.4)\n",
    "newton1_root=opt.newton(func, 1.5, fprime = lambda x: -(((x**2+1)*np.sin(x)+2*x*np.cos(x))/((x**2+1)**2)))\n",
    "newton2_root=opt.newton(func, 1.5)\n",
    "\n",
    "print('brentq_root =',brentq_root)\n",
    "get_ipython().run_line_magic('timeit', 'opt.brentq(fun,0.1,2.4)')\n",
    "print('bisect_root =',bisect_root)\n",
    "get_ipython().run_line_magic('timeit', 'opt.bisect(fun,0.1,2.4)')\n",
    "print('newton1_root =',newton1_root)\n",
    "get_ipython().run_line_magic('timeit', 'opt.newton(fun, 0.5, fprime = lambda x: -(((x**2+1)*np.sin(x)+2*x*np.cos(x))/((x**2+1)**2)))')\n",
    "print('newton2_root =',newton2_root)\n",
    "get_ipython().run_line_magic('timeit', 'opt.newton(fun, 0.5)')\n"
   ]
  },
  {
   "cell_type": "code",
   "execution_count": null,
   "metadata": {},
   "outputs": [],
   "source": []
  }
 ],
 "metadata": {
  "kernelspec": {
   "display_name": "Python 3",
   "language": "python",
   "name": "python3"
  },
  "language_info": {
   "codemirror_mode": {
    "name": "ipython",
    "version": 3
   },
   "file_extension": ".py",
   "mimetype": "text/x-python",
   "name": "python",
   "nbconvert_exporter": "python",
   "pygments_lexer": "ipython3",
   "version": "3.6.5"
  }
 },
 "nbformat": 4,
 "nbformat_minor": 2
}
